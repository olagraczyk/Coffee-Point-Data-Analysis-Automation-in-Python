{
  "nbformat": 4,
  "nbformat_minor": 0,
  "metadata": {
    "colab": {
      "provenance": []
    },
    "kernelspec": {
      "name": "python3",
      "display_name": "Python 3"
    },
    "language_info": {
      "name": "python"
    },
      "cell_type": "markdown",
      "source": [
        "Now, after entering new order data, all previous functionalities, like checking the inventory or making a plot work as well, with new data included."
      ],
      "metadata": {
        "id": "sgcdcdabnLHf"
      }
    }
  ]
}
