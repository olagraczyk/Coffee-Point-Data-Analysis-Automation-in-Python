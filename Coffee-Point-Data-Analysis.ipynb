{
  "nbformat": 4,
  "nbformat_minor": 0,
  "metadata": {
    "colab": {
      "provenance": []
    },
    "kernelspec": {
      "name": "python3",
      "display_name": "Python 3"
    },
    "language_info": {
      "name": "python"
    },
    "widgets": {
      "application/vnd.jupyter.widget-state+json": {
        "9b3e56375e9b41e9838569ac3067f9f3": {
          "model_module": "@jupyter-widgets/controls",
          "model_name": "DropdownModel",
          "model_module_version": "1.5.0",
          "state": {
            "_dom_classes": [],
            "_model_module": "@jupyter-widgets/controls",
            "_model_module_version": "1.5.0",
            "_model_name": "DropdownModel",
            "_options_labels": [
              "Coffee Beans",
              "Tea",
              "Croissant",
              "Muffin",
              "Juice"
            ],
            "_view_count": null,
            "_view_module": "@jupyter-widgets/controls",
            "_view_module_version": "1.5.0",
            "_view_name": "DropdownView",
            "description": "Select Product:",
            "description_tooltip": null,
            "disabled": false,
            "index": 0,
            "layout": "IPY_MODEL_64ac7b44ec9d48b2800fddf79118d076",
            "style": "IPY_MODEL_8a94afe48093440eb77638bd8bc84e4a"
          }
        },
        "64ac7b44ec9d48b2800fddf79118d076": {
          "model_module": "@jupyter-widgets/base",
          "model_name": "LayoutModel",
          "model_module_version": "1.2.0",
          "state": {
            "_model_module": "@jupyter-widgets/base",
            "_model_module_version": "1.2.0",
            "_model_name": "LayoutModel",
            "_view_count": null,
            "_view_module": "@jupyter-widgets/base",
            "_view_module_version": "1.2.0",
            "_view_name": "LayoutView",
            "align_content": null,
            "align_items": null,
            "align_self": null,
            "border": null,
            "bottom": null,
            "display": null,
            "flex": null,
            "flex_flow": null,
            "grid_area": null,
            "grid_auto_columns": null,
            "grid_auto_flow": null,
            "grid_auto_rows": null,
            "grid_column": null,
            "grid_gap": null,
            "grid_row": null,
            "grid_template_areas": null,
            "grid_template_columns": null,
            "grid_template_rows": null,
            "height": null,
            "justify_content": null,
            "justify_items": null,
            "left": null,
            "margin": null,
            "max_height": null,
            "max_width": null,
            "min_height": null,
            "min_width": null,
            "object_fit": null,
            "object_position": null,
            "order": null,
            "overflow": null,
            "overflow_x": null,
            "overflow_y": null,
            "padding": null,
            "right": null,
            "top": null,
            "visibility": null,
            "width": null
          }
        },
        "8a94afe48093440eb77638bd8bc84e4a": {
          "model_module": "@jupyter-widgets/controls",
          "model_name": "DescriptionStyleModel",
          "model_module_version": "1.5.0",
          "state": {
            "_model_module": "@jupyter-widgets/controls",
            "_model_module_version": "1.5.0",
            "_model_name": "DescriptionStyleModel",
            "_view_count": null,
            "_view_module": "@jupyter-widgets/base",
            "_view_module_version": "1.2.0",
            "_view_name": "StyleView",
            "description_width": ""
          }
        },
        "f4fe411dc094497ab66d896d6695e823": {
          "model_module": "@jupyter-widgets/output",
          "model_name": "OutputModel",
          "model_module_version": "1.0.0",
          "state": {
            "_dom_classes": [],
            "_model_module": "@jupyter-widgets/output",
            "_model_module_version": "1.0.0",
            "_model_name": "OutputModel",
            "_view_count": null,
            "_view_module": "@jupyter-widgets/output",
            "_view_module_version": "1.0.0",
            "_view_name": "OutputView",
            "layout": "IPY_MODEL_d5e2e83badf24e48b0d0d380939d55a1",
            "msg_id": "",
            "outputs": [
              {
                "output_type": "stream",
                "name": "stdout",
                "text": [
                  "Current stock of Coffee Beans: 59.99\n",
                  "Threshold needs to be 70.0\n"
                ]
              },
              {
                "output_type": "display_data",
                "data": {
                  "text/plain": "<IPython.core.display.HTML object>",
                  "text/html": "<b style='color:red;'>In need of restock for Coffee Beans!</b>"
                },
                "metadata": {}
              }
            ]
          }
        },
        "d5e2e83badf24e48b0d0d380939d55a1": {
          "model_module": "@jupyter-widgets/base",
          "model_name": "LayoutModel",
          "model_module_version": "1.2.0",
          "state": {
            "_model_module": "@jupyter-widgets/base",
            "_model_module_version": "1.2.0",
            "_model_name": "LayoutModel",
            "_view_count": null,
            "_view_module": "@jupyter-widgets/base",
            "_view_module_version": "1.2.0",
            "_view_name": "LayoutView",
            "align_content": null,
            "align_items": null,
            "align_self": null,
            "border": null,
            "bottom": null,
            "display": null,
            "flex": null,
            "flex_flow": null,
            "grid_area": null,
            "grid_auto_columns": null,
            "grid_auto_flow": null,
            "grid_auto_rows": null,
            "grid_column": null,
            "grid_gap": null,
            "grid_row": null,
            "grid_template_areas": null,
            "grid_template_columns": null,
            "grid_template_rows": null,
            "height": null,
            "justify_content": null,
            "justify_items": null,
            "left": null,
            "margin": null,
            "max_height": null,
            "max_width": null,
            "min_height": null,
            "min_width": null,
            "object_fit": null,
            "object_position": null,
            "order": null,
            "overflow": null,
            "overflow_x": null,
            "overflow_y": null,
            "padding": null,
            "right": null,
            "top": null,
            "visibility": null,
            "width": null
          }
        },
        "630c7bd5a7954f228d15ae2872e6e27f": {
          "model_module": "@jupyter-widgets/controls",
          "model_name": "VBoxModel",
          "model_module_version": "1.5.0",
          "state": {
            "_dom_classes": [],
            "_model_module": "@jupyter-widgets/controls",
            "_model_module_version": "1.5.0",
            "_model_name": "VBoxModel",
            "_view_count": null,
            "_view_module": "@jupyter-widgets/controls",
            "_view_module_version": "1.5.0",
            "_view_name": "VBoxView",
            "box_style": "",
            "children": [
              "IPY_MODEL_47d5872f04b74f4caa7c8f52697f7339",
              "IPY_MODEL_2f99a0685bb84cc3af06c3ef20261e6c",
              "IPY_MODEL_5e299db120a2430aa8abaa30bb52247b"
            ],
            "layout": "IPY_MODEL_66b1acd9c62048eb9b389824bd07eecb"
          }
        },
        "47d5872f04b74f4caa7c8f52697f7339": {
          "model_module": "@jupyter-widgets/controls",
          "model_name": "IntTextModel",
          "model_module_version": "1.5.0",
          "state": {
            "_dom_classes": [],
            "_model_module": "@jupyter-widgets/controls",
            "_model_module_version": "1.5.0",
            "_model_name": "IntTextModel",
            "_view_count": null,
            "_view_module": "@jupyter-widgets/controls",
            "_view_module_version": "1.5.0",
            "_view_name": "IntTextView",
            "continuous_update": false,
            "description": "Customer ID:",
            "description_tooltip": null,
            "disabled": false,
            "layout": "IPY_MODEL_604a9a48af194c798500f9e1810618f3",
            "step": 1,
            "style": "IPY_MODEL_3513f612d9534b9981c12947282dbb10",
            "value": 7
          }
        },
        "2f99a0685bb84cc3af06c3ef20261e6c": {
          "model_module": "@jupyter-widgets/controls",
          "model_name": "ButtonModel",
          "model_module_version": "1.5.0",
          "state": {
            "_dom_classes": [],
            "_model_module": "@jupyter-widgets/controls",
            "_model_module_version": "1.5.0",
            "_model_name": "ButtonModel",
            "_view_count": null,
            "_view_module": "@jupyter-widgets/controls",
            "_view_module_version": "1.5.0",
            "_view_name": "ButtonView",
            "button_style": "",
            "description": "Process Order",
            "disabled": false,
            "icon": "",
            "layout": "IPY_MODEL_bcb9b6756c684228a5dfa38058273517",
            "style": "IPY_MODEL_635ba8ca62d441d4915145c3d3bd98a1",
            "tooltip": ""
          }
        },
        "5e299db120a2430aa8abaa30bb52247b": {
          "model_module": "@jupyter-widgets/output",
          "model_name": "OutputModel",
          "model_module_version": "1.0.0",
          "state": {
            "_dom_classes": [],
            "_model_module": "@jupyter-widgets/output",
            "_model_module_version": "1.0.0",
            "_model_name": "OutputModel",
            "_view_count": null,
            "_view_module": "@jupyter-widgets/output",
            "_view_module_version": "1.0.0",
            "_view_name": "OutputView",
            "layout": "IPY_MODEL_846092a000474c45a00454866d85a63a",
            "msg_id": "",
            "outputs": [
              {
                "output_type": "display_data",
                "data": {
                  "text/plain": "HTML(value=\"<b><font color='blue'>New customer.</font></b>\")",
                  "application/vnd.jupyter.widget-view+json": {
                    "version_major": 2,
                    "version_minor": 0,
                    "model_id": "144c1bc582b74e7989a2e4b22afba01c"
                  }
                },
                "metadata": {}
              }
            ]
          }
        },
        "66b1acd9c62048eb9b389824bd07eecb": {
          "model_module": "@jupyter-widgets/base",
          "model_name": "LayoutModel",
          "model_module_version": "1.2.0",
          "state": {
            "_model_module": "@jupyter-widgets/base",
            "_model_module_version": "1.2.0",
            "_model_name": "LayoutModel",
            "_view_count": null,
            "_view_module": "@jupyter-widgets/base",
            "_view_module_version": "1.2.0",
            "_view_name": "LayoutView",
            "align_content": null,
            "align_items": null,
            "align_self": null,
            "border": null,
            "bottom": null,
            "display": null,
            "flex": null,
            "flex_flow": null,
            "grid_area": null,
            "grid_auto_columns": null,
            "grid_auto_flow": null,
            "grid_auto_rows": null,
            "grid_column": null,
            "grid_gap": null,
            "grid_row": null,
            "grid_template_areas": null,
            "grid_template_columns": null,
            "grid_template_rows": null,
            "height": null,
            "justify_content": null,
            "justify_items": null,
            "left": null,
            "margin": null,
            "max_height": null,
            "max_width": null,
            "min_height": null,
            "min_width": null,
            "object_fit": null,
            "object_position": null,
            "order": null,
            "overflow": null,
            "overflow_x": null,
            "overflow_y": null,
            "padding": null,
            "right": null,
            "top": null,
            "visibility": null,
            "width": null
          }
        },
        "604a9a48af194c798500f9e1810618f3": {
          "model_module": "@jupyter-widgets/base",
          "model_name": "LayoutModel",
          "model_module_version": "1.2.0",
          "state": {
            "_model_module": "@jupyter-widgets/base",
            "_model_module_version": "1.2.0",
            "_model_name": "LayoutModel",
            "_view_count": null,
            "_view_module": "@jupyter-widgets/base",
            "_view_module_version": "1.2.0",
            "_view_name": "LayoutView",
            "align_content": null,
            "align_items": null,
            "align_self": null,
            "border": null,
            "bottom": null,
            "display": null,
            "flex": null,
            "flex_flow": null,
            "grid_area": null,
            "grid_auto_columns": null,
            "grid_auto_flow": null,
            "grid_auto_rows": null,
            "grid_column": null,
            "grid_gap": null,
            "grid_row": null,
            "grid_template_areas": null,
            "grid_template_columns": null,
            "grid_template_rows": null,
            "height": null,
            "justify_content": null,
            "justify_items": null,
            "left": null,
            "margin": null,
            "max_height": null,
            "max_width": null,
            "min_height": null,
            "min_width": null,
            "object_fit": null,
            "object_position": null,
            "order": null,
            "overflow": null,
            "overflow_x": null,
            "overflow_y": null,
            "padding": null,
            "right": null,
            "top": null,
            "visibility": null,
            "width": null
          }
        },
        "3513f612d9534b9981c12947282dbb10": {
          "model_module": "@jupyter-widgets/controls",
          "model_name": "DescriptionStyleModel",
          "model_module_version": "1.5.0",
          "state": {
            "_model_module": "@jupyter-widgets/controls",
            "_model_module_version": "1.5.0",
            "_model_name": "DescriptionStyleModel",
            "_view_count": null,
            "_view_module": "@jupyter-widgets/base",
            "_view_module_version": "1.2.0",
            "_view_name": "StyleView",
            "description_width": ""
          }
        },
        "bcb9b6756c684228a5dfa38058273517": {
          "model_module": "@jupyter-widgets/base",
          "model_name": "LayoutModel",
          "model_module_version": "1.2.0",
          "state": {
            "_model_module": "@jupyter-widgets/base",
            "_model_module_version": "1.2.0",
            "_model_name": "LayoutModel",
            "_view_count": null,
            "_view_module": "@jupyter-widgets/base",
            "_view_module_version": "1.2.0",
            "_view_name": "LayoutView",
            "align_content": null,
            "align_items": null,
            "align_self": null,
            "border": null,
            "bottom": null,
            "display": null,
            "flex": null,
            "flex_flow": null,
            "grid_area": null,
            "grid_auto_columns": null,
            "grid_auto_flow": null,
            "grid_auto_rows": null,
            "grid_column": null,
            "grid_gap": null,
            "grid_row": null,
            "grid_template_areas": null,
            "grid_template_columns": null,
            "grid_template_rows": null,
            "height": null,
            "justify_content": null,
            "justify_items": null,
            "left": null,
            "margin": null,
            "max_height": null,
            "max_width": null,
            "min_height": null,
            "min_width": null,
            "object_fit": null,
            "object_position": null,
            "order": null,
            "overflow": null,
            "overflow_x": null,
            "overflow_y": null,
            "padding": null,
            "right": null,
            "top": null,
            "visibility": null,
            "width": null
          }
        },
        "635ba8ca62d441d4915145c3d3bd98a1": {
          "model_module": "@jupyter-widgets/controls",
          "model_name": "ButtonStyleModel",
          "model_module_version": "1.5.0",
          "state": {
            "_model_module": "@jupyter-widgets/controls",
            "_model_module_version": "1.5.0",
            "_model_name": "ButtonStyleModel",
            "_view_count": null,
            "_view_module": "@jupyter-widgets/base",
            "_view_module_version": "1.2.0",
            "_view_name": "StyleView",
            "button_color": null,
            "font_weight": ""
          }
        },
        "846092a000474c45a00454866d85a63a": {
          "model_module": "@jupyter-widgets/base",
          "model_name": "LayoutModel",
          "model_module_version": "1.2.0",
          "state": {
            "_model_module": "@jupyter-widgets/base",
            "_model_module_version": "1.2.0",
            "_model_name": "LayoutModel",
            "_view_count": null,
            "_view_module": "@jupyter-widgets/base",
            "_view_module_version": "1.2.0",
            "_view_name": "LayoutView",
            "align_content": null,
            "align_items": null,
            "align_self": null,
            "border": null,
            "bottom": null,
            "display": null,
            "flex": null,
            "flex_flow": null,
            "grid_area": null,
            "grid_auto_columns": null,
            "grid_auto_flow": null,
            "grid_auto_rows": null,
            "grid_column": null,
            "grid_gap": null,
            "grid_row": null,
            "grid_template_areas": null,
            "grid_template_columns": null,
            "grid_template_rows": null,
            "height": null,
            "justify_content": null,
            "justify_items": null,
            "left": null,
            "margin": null,
            "max_height": null,
            "max_width": null,
            "min_height": null,
            "min_width": null,
            "object_fit": null,
            "object_position": null,
            "order": null,
            "overflow": null,
            "overflow_x": null,
            "overflow_y": null,
            "padding": null,
            "right": null,
            "top": null,
            "visibility": null,
            "width": null
          }
        },
        "659bbc4d10544b02a96f05ad3c27ac04": {
          "model_module": "@jupyter-widgets/controls",
          "model_name": "HTMLModel",
          "model_module_version": "1.5.0",
          "state": {
            "_dom_classes": [],
            "_model_module": "@jupyter-widgets/controls",
            "_model_module_version": "1.5.0",
            "_model_name": "HTMLModel",
            "_view_count": null,
            "_view_module": "@jupyter-widgets/controls",
            "_view_module_version": "1.5.0",
            "_view_name": "HTMLView",
            "description": "",
            "description_tooltip": null,
            "layout": "IPY_MODEL_0d721b399748445d91d4cbe18012a4d3",
            "placeholder": "​",
            "style": "IPY_MODEL_728634da139d449680e22a5b8083e20a",
            "value": "<b><font color='red'>Offer this customer a free sample!</font></b> (Customer segment: Lost Customers)"
          }
        },
        "0d721b399748445d91d4cbe18012a4d3": {
          "model_module": "@jupyter-widgets/base",
          "model_name": "LayoutModel",
          "model_module_version": "1.2.0",
          "state": {
            "_model_module": "@jupyter-widgets/base",
            "_model_module_version": "1.2.0",
            "_model_name": "LayoutModel",
            "_view_count": null,
            "_view_module": "@jupyter-widgets/base",
            "_view_module_version": "1.2.0",
            "_view_name": "LayoutView",
            "align_content": null,
            "align_items": null,
            "align_self": null,
            "border": null,
            "bottom": null,
            "display": null,
            "flex": null,
            "flex_flow": null,
            "grid_area": null,
            "grid_auto_columns": null,
            "grid_auto_flow": null,
            "grid_auto_rows": null,
            "grid_column": null,
            "grid_gap": null,
            "grid_row": null,
            "grid_template_areas": null,
            "grid_template_columns": null,
            "grid_template_rows": null,
            "height": null,
            "justify_content": null,
            "justify_items": null,
            "left": null,
            "margin": null,
            "max_height": null,
            "max_width": null,
            "min_height": null,
            "min_width": null,
            "object_fit": null,
            "object_position": null,
            "order": null,
            "overflow": null,
            "overflow_x": null,
            "overflow_y": null,
            "padding": null,
            "right": null,
            "top": null,
            "visibility": null,
            "width": null
          }
        },
        "728634da139d449680e22a5b8083e20a": {
          "model_module": "@jupyter-widgets/controls",
          "model_name": "DescriptionStyleModel",
          "model_module_version": "1.5.0",
          "state": {
            "_model_module": "@jupyter-widgets/controls",
            "_model_module_version": "1.5.0",
            "_model_name": "DescriptionStyleModel",
            "_view_count": null,
            "_view_module": "@jupyter-widgets/base",
            "_view_module_version": "1.2.0",
            "_view_name": "StyleView",
            "description_width": ""
          }
        },
        "144c1bc582b74e7989a2e4b22afba01c": {
          "model_module": "@jupyter-widgets/controls",
          "model_name": "HTMLModel",
          "model_module_version": "1.5.0",
          "state": {
            "_dom_classes": [],
            "_model_module": "@jupyter-widgets/controls",
            "_model_module_version": "1.5.0",
            "_model_name": "HTMLModel",
            "_view_count": null,
            "_view_module": "@jupyter-widgets/controls",
            "_view_module_version": "1.5.0",
            "_view_name": "HTMLView",
            "description": "",
            "description_tooltip": null,
            "layout": "IPY_MODEL_84b2641876344ab09258582d0c9d30a4",
            "placeholder": "​",
            "style": "IPY_MODEL_48e8ab7e1a9944259f288b64f5d43f5b",
            "value": "<b><font color='blue'>New customer.</font></b>"
          }
        },
        "84b2641876344ab09258582d0c9d30a4": {
          "model_module": "@jupyter-widgets/base",
          "model_name": "LayoutModel",
          "model_module_version": "1.2.0",
          "state": {
            "_model_module": "@jupyter-widgets/base",
            "_model_module_version": "1.2.0",
            "_model_name": "LayoutModel",
            "_view_count": null,
            "_view_module": "@jupyter-widgets/base",
            "_view_module_version": "1.2.0",
            "_view_name": "LayoutView",
            "align_content": null,
            "align_items": null,
            "align_self": null,
            "border": null,
            "bottom": null,
            "display": null,
            "flex": null,
            "flex_flow": null,
            "grid_area": null,
            "grid_auto_columns": null,
            "grid_auto_flow": null,
            "grid_auto_rows": null,
            "grid_column": null,
            "grid_gap": null,
            "grid_row": null,
            "grid_template_areas": null,
            "grid_template_columns": null,
            "grid_template_rows": null,
            "height": null,
            "justify_content": null,
            "justify_items": null,
            "left": null,
            "margin": null,
            "max_height": null,
            "max_width": null,
            "min_height": null,
            "min_width": null,
            "object_fit": null,
            "object_position": null,
            "order": null,
            "overflow": null,
            "overflow_x": null,
            "overflow_y": null,
            "padding": null,
            "right": null,
            "top": null,
            "visibility": null,
            "width": null
          }
        },
        "48e8ab7e1a9944259f288b64f5d43f5b": {
          "model_module": "@jupyter-widgets/controls",
          "model_name": "DescriptionStyleModel",
          "model_module_version": "1.5.0",
          "state": {
            "_model_module": "@jupyter-widgets/controls",
            "_model_module_version": "1.5.0",
            "_model_name": "DescriptionStyleModel",
            "_view_count": null,
            "_view_module": "@jupyter-widgets/base",
            "_view_module_version": "1.2.0",
            "_view_name": "StyleView",
            "description_width": ""
          }
        },
        "caf14ecc638b46aba5c55e85fa9068bb": {
          "model_module": "@jupyter-widgets/controls",
          "model_name": "ButtonModel",
          "model_module_version": "1.5.0",
          "state": {
            "_dom_classes": [],
            "_model_module": "@jupyter-widgets/controls",
            "_model_module_version": "1.5.0",
            "_model_name": "ButtonModel",
            "_view_count": null,
            "_view_module": "@jupyter-widgets/controls",
            "_view_module_version": "1.5.0",
            "_view_name": "ButtonView",
            "button_style": "",
            "description": "New Order",
            "disabled": false,
            "icon": "",
            "layout": "IPY_MODEL_2f4142173eb44163b1e948a49cc95498",
            "style": "IPY_MODEL_f3b005bea8e04800b45afefa7b2199e8",
            "tooltip": ""
          }
        },
        "2f4142173eb44163b1e948a49cc95498": {
          "model_module": "@jupyter-widgets/base",
          "model_name": "LayoutModel",
          "model_module_version": "1.2.0",
          "state": {
            "_model_module": "@jupyter-widgets/base",
            "_model_module_version": "1.2.0",
            "_model_name": "LayoutModel",
            "_view_count": null,
            "_view_module": "@jupyter-widgets/base",
            "_view_module_version": "1.2.0",
            "_view_name": "LayoutView",
            "align_content": null,
            "align_items": null,
            "align_self": null,
            "border": null,
            "bottom": null,
            "display": null,
            "flex": null,
            "flex_flow": null,
            "grid_area": null,
            "grid_auto_columns": null,
            "grid_auto_flow": null,
            "grid_auto_rows": null,
            "grid_column": null,
            "grid_gap": null,
            "grid_row": null,
            "grid_template_areas": null,
            "grid_template_columns": null,
            "grid_template_rows": null,
            "height": null,
            "justify_content": null,
            "justify_items": null,
            "left": null,
            "margin": null,
            "max_height": null,
            "max_width": null,
            "min_height": null,
            "min_width": null,
            "object_fit": null,
            "object_position": null,
            "order": null,
            "overflow": null,
            "overflow_x": null,
            "overflow_y": null,
            "padding": null,
            "right": null,
            "top": null,
            "visibility": null,
            "width": null
          }
        },
        "f3b005bea8e04800b45afefa7b2199e8": {
          "model_module": "@jupyter-widgets/controls",
          "model_name": "ButtonStyleModel",
          "model_module_version": "1.5.0",
          "state": {
            "_model_module": "@jupyter-widgets/controls",
            "_model_module_version": "1.5.0",
            "_model_name": "ButtonStyleModel",
            "_view_count": null,
            "_view_module": "@jupyter-widgets/base",
            "_view_module_version": "1.2.0",
            "_view_name": "StyleView",
            "button_color": null,
            "font_weight": ""
          }
        },
        "c807bfc12b50480ea28388cafa876d7f": {
          "model_module": "@jupyter-widgets/controls",
          "model_name": "IntTextModel",
          "model_module_version": "1.5.0",
          "state": {
            "_dom_classes": [],
            "_model_module": "@jupyter-widgets/controls",
            "_model_module_version": "1.5.0",
            "_model_name": "IntTextModel",
            "_view_count": null,
            "_view_module": "@jupyter-widgets/controls",
            "_view_module_version": "1.5.0",
            "_view_name": "IntTextView",
            "continuous_update": false,
            "description": "Customer ID:",
            "description_tooltip": null,
            "disabled": false,
            "layout": "IPY_MODEL_1a66fbf1426c46ca81e0662fca20f357",
            "step": 1,
            "style": "IPY_MODEL_fd5c7d65f1e947a4ac130ab35f23885a",
            "value": 7
          }
        },
        "1a66fbf1426c46ca81e0662fca20f357": {
          "model_module": "@jupyter-widgets/base",
          "model_name": "LayoutModel",
          "model_module_version": "1.2.0",
          "state": {
            "_model_module": "@jupyter-widgets/base",
            "_model_module_version": "1.2.0",
            "_model_name": "LayoutModel",
            "_view_count": null,
            "_view_module": "@jupyter-widgets/base",
            "_view_module_version": "1.2.0",
            "_view_name": "LayoutView",
            "align_content": null,
            "align_items": null,
            "align_self": null,
            "border": null,
            "bottom": null,
            "display": null,
            "flex": null,
            "flex_flow": null,
            "grid_area": null,
            "grid_auto_columns": null,
            "grid_auto_flow": null,
            "grid_auto_rows": null,
            "grid_column": null,
            "grid_gap": null,
            "grid_row": null,
            "grid_template_areas": null,
            "grid_template_columns": null,
            "grid_template_rows": null,
            "height": null,
            "justify_content": null,
            "justify_items": null,
            "left": null,
            "margin": null,
            "max_height": null,
            "max_width": null,
            "min_height": null,
            "min_width": null,
            "object_fit": null,
            "object_position": null,
            "order": null,
            "overflow": null,
            "overflow_x": null,
            "overflow_y": null,
            "padding": null,
            "right": null,
            "top": null,
            "visibility": null,
            "width": null
          }
        },
        "fd5c7d65f1e947a4ac130ab35f23885a": {
          "model_module": "@jupyter-widgets/controls",
          "model_name": "DescriptionStyleModel",
          "model_module_version": "1.5.0",
          "state": {
            "_model_module": "@jupyter-widgets/controls",
            "_model_module_version": "1.5.0",
            "_model_name": "DescriptionStyleModel",
            "_view_count": null,
            "_view_module": "@jupyter-widgets/base",
            "_view_module_version": "1.2.0",
            "_view_name": "StyleView",
            "description_width": ""
          }
        },
        "21fbfa54732143a9a8c560d5198ae081": {
          "model_module": "@jupyter-widgets/controls",
          "model_name": "DropdownModel",
          "model_module_version": "1.5.0",
          "state": {
            "_dom_classes": [],
            "_model_module": "@jupyter-widgets/controls",
            "_model_module_version": "1.5.0",
            "_model_name": "DropdownModel",
            "_options_labels": [
              "None",
              "Americano",
              "Latte",
              "Cappuccino",
              "Tea",
              "Croissant",
              "Muffin",
              "Juice"
            ],
            "_view_count": null,
            "_view_module": "@jupyter-widgets/controls",
            "_view_module_version": "1.5.0",
            "_view_name": "DropdownView",
            "description": "Item 1:",
            "description_tooltip": null,
            "disabled": false,
            "index": 1,
            "layout": "IPY_MODEL_f736e46d73f7428f9008229950ce2028",
            "style": "IPY_MODEL_5de608d45a6b4ad28d8718ce89055952"
          }
        },
        "f736e46d73f7428f9008229950ce2028": {
          "model_module": "@jupyter-widgets/base",
          "model_name": "LayoutModel",
          "model_module_version": "1.2.0",
          "state": {
            "_model_module": "@jupyter-widgets/base",
            "_model_module_version": "1.2.0",
            "_model_name": "LayoutModel",
            "_view_count": null,
            "_view_module": "@jupyter-widgets/base",
            "_view_module_version": "1.2.0",
            "_view_name": "LayoutView",
            "align_content": null,
            "align_items": null,
            "align_self": null,
            "border": null,
            "bottom": null,
            "display": null,
            "flex": null,
            "flex_flow": null,
            "grid_area": null,
            "grid_auto_columns": null,
            "grid_auto_flow": null,
            "grid_auto_rows": null,
            "grid_column": null,
            "grid_gap": null,
            "grid_row": null,
            "grid_template_areas": null,
            "grid_template_columns": null,
            "grid_template_rows": null,
            "height": null,
            "justify_content": null,
            "justify_items": null,
            "left": null,
            "margin": null,
            "max_height": null,
            "max_width": null,
            "min_height": null,
            "min_width": null,
            "object_fit": null,
            "object_position": null,
            "order": null,
            "overflow": null,
            "overflow_x": null,
            "overflow_y": null,
            "padding": null,
            "right": null,
            "top": null,
            "visibility": null,
            "width": null
          }
        },
        "5de608d45a6b4ad28d8718ce89055952": {
          "model_module": "@jupyter-widgets/controls",
          "model_name": "DescriptionStyleModel",
          "model_module_version": "1.5.0",
          "state": {
            "_model_module": "@jupyter-widgets/controls",
            "_model_module_version": "1.5.0",
            "_model_name": "DescriptionStyleModel",
            "_view_count": null,
            "_view_module": "@jupyter-widgets/base",
            "_view_module_version": "1.2.0",
            "_view_name": "StyleView",
            "description_width": ""
          }
        },
        "576b326b95ec41268594e154c05c62e2": {
          "model_module": "@jupyter-widgets/controls",
          "model_name": "DropdownModel",
          "model_module_version": "1.5.0",
          "state": {
            "_dom_classes": [],
            "_model_module": "@jupyter-widgets/controls",
            "_model_module_version": "1.5.0",
            "_model_name": "DropdownModel",
            "_options_labels": [
              "None",
              "Americano",
              "Latte",
              "Cappuccino",
              "Tea",
              "Croissant",
              "Muffin",
              "Juice"
            ],
            "_view_count": null,
            "_view_module": "@jupyter-widgets/controls",
            "_view_module_version": "1.5.0",
            "_view_name": "DropdownView",
            "description": "Item 2:",
            "description_tooltip": null,
            "disabled": false,
            "index": 5,
            "layout": "IPY_MODEL_5f2dc99a0e3d4ef882bbd906200d2f3d",
            "style": "IPY_MODEL_828fc3f151c6414e876f549858d95afe"
          }
        },
        "5f2dc99a0e3d4ef882bbd906200d2f3d": {
          "model_module": "@jupyter-widgets/base",
          "model_name": "LayoutModel",
          "model_module_version": "1.2.0",
          "state": {
            "_model_module": "@jupyter-widgets/base",
            "_model_module_version": "1.2.0",
            "_model_name": "LayoutModel",
            "_view_count": null,
            "_view_module": "@jupyter-widgets/base",
            "_view_module_version": "1.2.0",
            "_view_name": "LayoutView",
            "align_content": null,
            "align_items": null,
            "align_self": null,
            "border": null,
            "bottom": null,
            "display": null,
            "flex": null,
            "flex_flow": null,
            "grid_area": null,
            "grid_auto_columns": null,
            "grid_auto_flow": null,
            "grid_auto_rows": null,
            "grid_column": null,
            "grid_gap": null,
            "grid_row": null,
            "grid_template_areas": null,
            "grid_template_columns": null,
            "grid_template_rows": null,
            "height": null,
            "justify_content": null,
            "justify_items": null,
            "left": null,
            "margin": null,
            "max_height": null,
            "max_width": null,
            "min_height": null,
            "min_width": null,
            "object_fit": null,
            "object_position": null,
            "order": null,
            "overflow": null,
            "overflow_x": null,
            "overflow_y": null,
            "padding": null,
            "right": null,
            "top": null,
            "visibility": null,
            "width": null
          }
        },
        "828fc3f151c6414e876f549858d95afe": {
          "model_module": "@jupyter-widgets/controls",
          "model_name": "DescriptionStyleModel",
          "model_module_version": "1.5.0",
          "state": {
            "_model_module": "@jupyter-widgets/controls",
            "_model_module_version": "1.5.0",
            "_model_name": "DescriptionStyleModel",
            "_view_count": null,
            "_view_module": "@jupyter-widgets/base",
            "_view_module_version": "1.2.0",
            "_view_name": "StyleView",
            "description_width": ""
          }
        },
        "9abe39d48c03439d8789c97fd14d33b9": {
          "model_module": "@jupyter-widgets/controls",
          "model_name": "DropdownModel",
          "model_module_version": "1.5.0",
          "state": {
            "_dom_classes": [],
            "_model_module": "@jupyter-widgets/controls",
            "_model_module_version": "1.5.0",
            "_model_name": "DropdownModel",
            "_options_labels": [
              "None",
              "Americano",
              "Latte",
              "Cappuccino",
              "Tea",
              "Croissant",
              "Muffin",
              "Juice"
            ],
            "_view_count": null,
            "_view_module": "@jupyter-widgets/controls",
            "_view_module_version": "1.5.0",
            "_view_name": "DropdownView",
            "description": "Item 3:",
            "description_tooltip": null,
            "disabled": false,
            "index": 7,
            "layout": "IPY_MODEL_76475fc2840a49eba779aba34f3e0ef1",
            "style": "IPY_MODEL_e0e6a6cb868f4db2b6a346ed279eccab"
          }
        },
        "76475fc2840a49eba779aba34f3e0ef1": {
          "model_module": "@jupyter-widgets/base",
          "model_name": "LayoutModel",
          "model_module_version": "1.2.0",
          "state": {
            "_model_module": "@jupyter-widgets/base",
            "_model_module_version": "1.2.0",
            "_model_name": "LayoutModel",
            "_view_count": null,
            "_view_module": "@jupyter-widgets/base",
            "_view_module_version": "1.2.0",
            "_view_name": "LayoutView",
            "align_content": null,
            "align_items": null,
            "align_self": null,
            "border": null,
            "bottom": null,
            "display": null,
            "flex": null,
            "flex_flow": null,
            "grid_area": null,
            "grid_auto_columns": null,
            "grid_auto_flow": null,
            "grid_auto_rows": null,
            "grid_column": null,
            "grid_gap": null,
            "grid_row": null,
            "grid_template_areas": null,
            "grid_template_columns": null,
            "grid_template_rows": null,
            "height": null,
            "justify_content": null,
            "justify_items": null,
            "left": null,
            "margin": null,
            "max_height": null,
            "max_width": null,
            "min_height": null,
            "min_width": null,
            "object_fit": null,
            "object_position": null,
            "order": null,
            "overflow": null,
            "overflow_x": null,
            "overflow_y": null,
            "padding": null,
            "right": null,
            "top": null,
            "visibility": null,
            "width": null
          }
        },
        "e0e6a6cb868f4db2b6a346ed279eccab": {
          "model_module": "@jupyter-widgets/controls",
          "model_name": "DescriptionStyleModel",
          "model_module_version": "1.5.0",
          "state": {
            "_model_module": "@jupyter-widgets/controls",
            "_model_module_version": "1.5.0",
            "_model_name": "DescriptionStyleModel",
            "_view_count": null,
            "_view_module": "@jupyter-widgets/base",
            "_view_module_version": "1.2.0",
            "_view_name": "StyleView",
            "description_width": ""
          }
        },
        "40e55aa26e624ad9bf679eb35f577c1f": {
          "model_module": "@jupyter-widgets/controls",
          "model_name": "DropdownModel",
          "model_module_version": "1.5.0",
          "state": {
            "_dom_classes": [],
            "_model_module": "@jupyter-widgets/controls",
            "_model_module_version": "1.5.0",
            "_model_name": "DropdownModel",
            "_options_labels": [
              "None",
              "Americano",
              "Latte",
              "Cappuccino",
              "Tea",
              "Croissant",
              "Muffin",
              "Juice"
            ],
            "_view_count": null,
            "_view_module": "@jupyter-widgets/controls",
            "_view_module_version": "1.5.0",
            "_view_name": "DropdownView",
            "description": "Item 4:",
            "description_tooltip": null,
            "disabled": false,
            "index": 0,
            "layout": "IPY_MODEL_656b15a78eb94f159be87e0ef74add0a",
            "style": "IPY_MODEL_233719f894a2402f8c723e1ac6b3d436"
          }
        },
        "656b15a78eb94f159be87e0ef74add0a": {
          "model_module": "@jupyter-widgets/base",
          "model_name": "LayoutModel",
          "model_module_version": "1.2.0",
          "state": {
            "_model_module": "@jupyter-widgets/base",
            "_model_module_version": "1.2.0",
            "_model_name": "LayoutModel",
            "_view_count": null,
            "_view_module": "@jupyter-widgets/base",
            "_view_module_version": "1.2.0",
            "_view_name": "LayoutView",
            "align_content": null,
            "align_items": null,
            "align_self": null,
            "border": null,
            "bottom": null,
            "display": null,
            "flex": null,
            "flex_flow": null,
            "grid_area": null,
            "grid_auto_columns": null,
            "grid_auto_flow": null,
            "grid_auto_rows": null,
            "grid_column": null,
            "grid_gap": null,
            "grid_row": null,
            "grid_template_areas": null,
            "grid_template_columns": null,
            "grid_template_rows": null,
            "height": null,
            "justify_content": null,
            "justify_items": null,
            "left": null,
            "margin": null,
            "max_height": null,
            "max_width": null,
            "min_height": null,
            "min_width": null,
            "object_fit": null,
            "object_position": null,
            "order": null,
            "overflow": null,
            "overflow_x": null,
            "overflow_y": null,
            "padding": null,
            "right": null,
            "top": null,
            "visibility": null,
            "width": null
          }
        },
        "233719f894a2402f8c723e1ac6b3d436": {
          "model_module": "@jupyter-widgets/controls",
          "model_name": "DescriptionStyleModel",
          "model_module_version": "1.5.0",
          "state": {
            "_model_module": "@jupyter-widgets/controls",
            "_model_module_version": "1.5.0",
            "_model_name": "DescriptionStyleModel",
            "_view_count": null,
            "_view_module": "@jupyter-widgets/base",
            "_view_module_version": "1.2.0",
            "_view_name": "StyleView",
            "description_width": ""
          }
        },
        "76fec5db45d4479a9e823655d2794282": {
          "model_module": "@jupyter-widgets/controls",
          "model_name": "DropdownModel",
          "model_module_version": "1.5.0",
          "state": {
            "_dom_classes": [],
            "_model_module": "@jupyter-widgets/controls",
            "_model_module_version": "1.5.0",
            "_model_name": "DropdownModel",
            "_options_labels": [
              "None",
              "Americano",
              "Latte",
              "Cappuccino",
              "Tea",
              "Croissant",
              "Muffin",
              "Juice"
            ],
            "_view_count": null,
            "_view_module": "@jupyter-widgets/controls",
            "_view_module_version": "1.5.0",
            "_view_name": "DropdownView",
            "description": "Item 5:",
            "description_tooltip": null,
            "disabled": false,
            "index": 0,
            "layout": "IPY_MODEL_10e56adac6594192ba720abac85636cb",
            "style": "IPY_MODEL_6a080ae5375c49e4b73cc9416e1cc582"
          }
        },
        "10e56adac6594192ba720abac85636cb": {
          "model_module": "@jupyter-widgets/base",
          "model_name": "LayoutModel",
          "model_module_version": "1.2.0",
          "state": {
            "_model_module": "@jupyter-widgets/base",
            "_model_module_version": "1.2.0",
            "_model_name": "LayoutModel",
            "_view_count": null,
            "_view_module": "@jupyter-widgets/base",
            "_view_module_version": "1.2.0",
            "_view_name": "LayoutView",
            "align_content": null,
            "align_items": null,
            "align_self": null,
            "border": null,
            "bottom": null,
            "display": null,
            "flex": null,
            "flex_flow": null,
            "grid_area": null,
            "grid_auto_columns": null,
            "grid_auto_flow": null,
            "grid_auto_rows": null,
            "grid_column": null,
            "grid_gap": null,
            "grid_row": null,
            "grid_template_areas": null,
            "grid_template_columns": null,
            "grid_template_rows": null,
            "height": null,
            "justify_content": null,
            "justify_items": null,
            "left": null,
            "margin": null,
            "max_height": null,
            "max_width": null,
            "min_height": null,
            "min_width": null,
            "object_fit": null,
            "object_position": null,
            "order": null,
            "overflow": null,
            "overflow_x": null,
            "overflow_y": null,
            "padding": null,
            "right": null,
            "top": null,
            "visibility": null,
            "width": null
          }
        },
        "6a080ae5375c49e4b73cc9416e1cc582": {
          "model_module": "@jupyter-widgets/controls",
          "model_name": "DescriptionStyleModel",
          "model_module_version": "1.5.0",
          "state": {
            "_model_module": "@jupyter-widgets/controls",
            "_model_module_version": "1.5.0",
            "_model_name": "DescriptionStyleModel",
            "_view_count": null,
            "_view_module": "@jupyter-widgets/base",
            "_view_module_version": "1.2.0",
            "_view_name": "StyleView",
            "description_width": ""
          }
        },
        "8324588181794e7d85bf8b8615543dd4": {
          "model_module": "@jupyter-widgets/controls",
          "model_name": "ButtonModel",
          "model_module_version": "1.5.0",
          "state": {
            "_dom_classes": [],
            "_model_module": "@jupyter-widgets/controls",
            "_model_module_version": "1.5.0",
            "_model_name": "ButtonModel",
            "_view_count": null,
            "_view_module": "@jupyter-widgets/controls",
            "_view_module_version": "1.5.0",
            "_view_name": "ButtonView",
            "button_style": "",
            "description": "Submit New Order",
            "disabled": false,
            "icon": "",
            "layout": "IPY_MODEL_9ee33c80b5ad4ad28b2c5d7cea1d6f21",
            "style": "IPY_MODEL_19e041a1c1c945d9927b0db766e26182",
            "tooltip": ""
          }
        },
        "9ee33c80b5ad4ad28b2c5d7cea1d6f21": {
          "model_module": "@jupyter-widgets/base",
          "model_name": "LayoutModel",
          "model_module_version": "1.2.0",
          "state": {
            "_model_module": "@jupyter-widgets/base",
            "_model_module_version": "1.2.0",
            "_model_name": "LayoutModel",
            "_view_count": null,
            "_view_module": "@jupyter-widgets/base",
            "_view_module_version": "1.2.0",
            "_view_name": "LayoutView",
            "align_content": null,
            "align_items": null,
            "align_self": null,
            "border": null,
            "bottom": null,
            "display": null,
            "flex": null,
            "flex_flow": null,
            "grid_area": null,
            "grid_auto_columns": null,
            "grid_auto_flow": null,
            "grid_auto_rows": null,
            "grid_column": null,
            "grid_gap": null,
            "grid_row": null,
            "grid_template_areas": null,
            "grid_template_columns": null,
            "grid_template_rows": null,
            "height": null,
            "justify_content": null,
            "justify_items": null,
            "left": null,
            "margin": null,
            "max_height": null,
            "max_width": null,
            "min_height": null,
            "min_width": null,
            "object_fit": null,
            "object_position": null,
            "order": null,
            "overflow": null,
            "overflow_x": null,
            "overflow_y": null,
            "padding": null,
            "right": null,
            "top": null,
            "visibility": null,
            "width": null
          }
        },
        "19e041a1c1c945d9927b0db766e26182": {
          "model_module": "@jupyter-widgets/controls",
          "model_name": "ButtonStyleModel",
          "model_module_version": "1.5.0",
          "state": {
            "_model_module": "@jupyter-widgets/controls",
            "_model_module_version": "1.5.0",
            "_model_name": "ButtonStyleModel",
            "_view_count": null,
            "_view_module": "@jupyter-widgets/base",
            "_view_module_version": "1.2.0",
            "_view_name": "StyleView",
            "button_color": null,
            "font_weight": ""
          }
        },
        "786c024975aa4cfba512c2c7f3deaa86": {
          "model_module": "@jupyter-widgets/output",
          "model_name": "OutputModel",
          "model_module_version": "1.0.0",
          "state": {
            "_dom_classes": [],
            "_model_module": "@jupyter-widgets/output",
            "_model_module_version": "1.0.0",
            "_model_name": "OutputModel",
            "_view_count": null,
            "_view_module": "@jupyter-widgets/output",
            "_view_module_version": "1.0.0",
            "_view_name": "OutputView",
            "layout": "IPY_MODEL_44600a1016be4b2da9d45eb85b5afb86",
            "msg_id": "",
            "outputs": [
              {
                "output_type": "stream",
                "name": "stderr",
                "text": [
                  "<ipython-input-22-58e43a117465>:28: FutureWarning: Setting an item of incompatible dtype is deprecated and will raise an error in a future version of pandas. Value '[59.99]' has dtype incompatible with int64, please explicitly cast to a compatible dtype first.\n",
                  "  df_inventory.loc[df_inventory[\"product\"] == \"Coffee Beans\", \"stock_kg_or_units\"] -= coffee_used\n"
                ]
              },
              {
                "output_type": "stream",
                "name": "stdout",
                "text": [
                  "Customer id is:  7\n"
                ]
              },
              {
                "output_type": "display_data",
                "data": {
                  "text/plain": "HTML(value='Customer segment: High value Customer<br>All data has been updated in CoffeePointData.xlsx')",
                  "application/vnd.jupyter.widget-view+json": {
                    "version_major": 2,
                    "version_minor": 0,
                    "model_id": "c99b22b5d0fd42c0a268fd10c7650f08"
                  }
                },
                "metadata": {}
              }
            ]
          }
        },
        "44600a1016be4b2da9d45eb85b5afb86": {
          "model_module": "@jupyter-widgets/base",
          "model_name": "LayoutModel",
          "model_module_version": "1.2.0",
          "state": {
            "_model_module": "@jupyter-widgets/base",
            "_model_module_version": "1.2.0",
            "_model_name": "LayoutModel",
            "_view_count": null,
            "_view_module": "@jupyter-widgets/base",
            "_view_module_version": "1.2.0",
            "_view_name": "LayoutView",
            "align_content": null,
            "align_items": null,
            "align_self": null,
            "border": null,
            "bottom": null,
            "display": null,
            "flex": null,
            "flex_flow": null,
            "grid_area": null,
            "grid_auto_columns": null,
            "grid_auto_flow": null,
            "grid_auto_rows": null,
            "grid_column": null,
            "grid_gap": null,
            "grid_row": null,
            "grid_template_areas": null,
            "grid_template_columns": null,
            "grid_template_rows": null,
            "height": null,
            "justify_content": null,
            "justify_items": null,
            "left": null,
            "margin": null,
            "max_height": null,
            "max_width": null,
            "min_height": null,
            "min_width": null,
            "object_fit": null,
            "object_position": null,
            "order": null,
            "overflow": null,
            "overflow_x": null,
            "overflow_y": null,
            "padding": null,
            "right": null,
            "top": null,
            "visibility": null,
            "width": null
          }
        },
        "c99b22b5d0fd42c0a268fd10c7650f08": {
          "model_module": "@jupyter-widgets/controls",
          "model_name": "HTMLModel",
          "model_module_version": "1.5.0",
          "state": {
            "_dom_classes": [],
            "_model_module": "@jupyter-widgets/controls",
            "_model_module_version": "1.5.0",
            "_model_name": "HTMLModel",
            "_view_count": null,
            "_view_module": "@jupyter-widgets/controls",
            "_view_module_version": "1.5.0",
            "_view_name": "HTMLView",
            "description": "",
            "description_tooltip": null,
            "layout": "IPY_MODEL_de46bed10b6c4d15af4b5e4f88d8edb3",
            "placeholder": "​",
            "style": "IPY_MODEL_c241fbf9b8af4a91a7081af3f80cce27",
            "value": "Customer segment: High value Customer<br>All data has been updated in CoffeePointData.xlsx"
          }
        },
        "de46bed10b6c4d15af4b5e4f88d8edb3": {
          "model_module": "@jupyter-widgets/base",
          "model_name": "LayoutModel",
          "model_module_version": "1.2.0",
          "state": {
            "_model_module": "@jupyter-widgets/base",
            "_model_module_version": "1.2.0",
            "_model_name": "LayoutModel",
            "_view_count": null,
            "_view_module": "@jupyter-widgets/base",
            "_view_module_version": "1.2.0",
            "_view_name": "LayoutView",
            "align_content": null,
            "align_items": null,
            "align_self": null,
            "border": null,
            "bottom": null,
            "display": null,
            "flex": null,
            "flex_flow": null,
            "grid_area": null,
            "grid_auto_columns": null,
            "grid_auto_flow": null,
            "grid_auto_rows": null,
            "grid_column": null,
            "grid_gap": null,
            "grid_row": null,
            "grid_template_areas": null,
            "grid_template_columns": null,
            "grid_template_rows": null,
            "height": null,
            "justify_content": null,
            "justify_items": null,
            "left": null,
            "margin": null,
            "max_height": null,
            "max_width": null,
            "min_height": null,
            "min_width": null,
            "object_fit": null,
            "object_position": null,
            "order": null,
            "overflow": null,
            "overflow_x": null,
            "overflow_y": null,
            "padding": null,
            "right": null,
            "top": null,
            "visibility": null,
            "width": null
          }
        },
        "c241fbf9b8af4a91a7081af3f80cce27": {
          "model_module": "@jupyter-widgets/controls",
          "model_name": "DescriptionStyleModel",
          "model_module_version": "1.5.0",
          "state": {
            "_model_module": "@jupyter-widgets/controls",
            "_model_module_version": "1.5.0",
            "_model_name": "DescriptionStyleModel",
            "_view_count": null,
            "_view_module": "@jupyter-widgets/base",
            "_view_module_version": "1.2.0",
            "_view_name": "StyleView",
            "description_width": ""
          }
        }
      }
    }
  },
  "cells": [
    {
      "cell_type": "markdown",
      "source": [
        "#Coffee Point Project: Aleksandra Graczyk\n",
        "###Generating Data\n",
        "###ABC Analysis\n",
        "###FRM Analysis\n",
        "###Automation Applications\n",
        "* Inventory data\n",
        "* Free samples\n",
        "* Simulation"
      ],
      "metadata": {
        "id": "iOwTMh2x7p_D"
      }
    },
    {
      "cell_type": "markdown",
      "source": [
        "##Data Generation\n",
        "\n",
        "In this section I am generating order data, customer data and inventory data and saving it to an Excel file, that can be easly downloaded. Having the Excel file ready to be modified and downloaded would be a desirable step in a real business situation."
      ],
      "metadata": {
        "id": "xi8R6BNG773z"
      }
    },
    {
      "cell_type": "code",
      "source": [
        "# Importing libraries\n",
        "import numpy as np\n",
        "import pandas as pd\n",
        "import matplotlib.pyplot as plt\n",
        "import seaborn as sns\n",
        "from datetime import datetime"
      ],
      "metadata": {
        "id": "lNcyGw5CuagQ"
      },
      "execution_count": null,
      "outputs": []
    },
    {
      "cell_type": "code",
      "source": [
        "np.random.seed(42)\n",
        "\n",
        "# Product catalog with stable prices\n",
        "product_catalog = {\n",
        "    \"Americano\": 3.0,\n",
        "    \"Latte\": 3.5,\n",
        "    \"Cappuccino\": 4.0,\n",
        "    \"Tea\": 2.5,\n",
        "    \"Croissant\": 5.5,\n",
        "    \"Muffin\": 4.5,\n",
        "    \"Juice\": 3.5,\n",
        "}\n",
        "\n",
        "products = list(product_catalog.keys())\n",
        "prices = list(product_catalog.values())\n",
        "\n",
        "# I will generate 20,000 orders\n",
        "num_orders = 20000\n",
        "\n",
        "# Generate order details\n",
        "order_data = []\n",
        "for order_id in range(1, num_orders + 1):\n",
        "    customer_id = np.random.randint(1000, 1600)  # I want to generate 600 unique customers\n",
        "    date = np.random.choice(pd.date_range(start=\"2023-01-01\", end=\"2024-01-01\"))\n",
        "    num_items = np.random.randint(1, 5)\n",
        "\n",
        "    # Generate multiple products in a single order\n",
        "    for _ in range(num_items):\n",
        "        product = np.random.choice(products)\n",
        "        quantity = np.random.randint(1, 4)  # Quantity for each product (1-3)\n",
        "        price = product_catalog[product]\n",
        "        amount = price * quantity\n",
        "        order_data.append([order_id, customer_id, date, product, quantity, price, amount])\n",
        "\n",
        "df_orders = pd.DataFrame(order_data, columns=[\"order_id\", \"customer_id\", \"date\", \"product\", \"quantity\", \"price\", \"amount\"])\n",
        "\n",
        "coffee_products = [\"Americano\", \"Latte\", \"Cappuccino\"]\n",
        "df_orders[\"coffee_used_kg\"] = df_orders.apply(\n",
        "    lambda row: 0.01 * row[\"quantity\"] if row[\"product\"] in coffee_products else 0, axis=1\n",
        ")\n",
        "\n",
        "# Inventory data\n",
        "inventory_data = {\n",
        "    \"product\": [\"Coffee Beans\", \"Tea\", \"Croissant\", \"Muffin\", \"Juice\"],\n",
        "    \"category\": [\"Coffee\", \"Drink\", \"Food\", \"Food\", \"Drink\"],\n",
        "    \"stock_kg_or_units\": [60.0, 80.0, 70.0, 100.0, 250.0],  # coffe in kilograms, rest in units.\n",
        "}\n",
        "df_inventory = pd.DataFrame(inventory_data)\n",
        "\n",
        "\n",
        "\n",
        "# Customer data\n",
        "num_customers = 600\n",
        "last_purchase_dates = df_orders.groupby(\"customer_id\")[\"date\"].max()\n",
        "\n",
        "df_customers = pd.DataFrame({\n",
        "    \"customer_id\": range(1000, 1000 + num_customers)\n",
        "})\n",
        "\n",
        "# Find last purchase date for each customer\n",
        "df_customers = df_customers.merge(last_purchase_dates, on=\"customer_id\", how=\"left\")\n",
        "df_customers.rename(columns={\"date\": \"last_purchase\"}, inplace=True)\n",
        "\n",
        "# Export data to Excel\n",
        "file_name = \"CoffeePointData.xlsx\"\n",
        "with pd.ExcelWriter(file_name, engine=\"openpyxl\") as writer:\n",
        "    df_orders.to_excel(writer, sheet_name=\"Order History\", index=False)\n",
        "    df_inventory.to_excel(writer, sheet_name=\"Inventory Info\", index=False)\n",
        "    df_customers.to_excel(writer, sheet_name=\"Customer Data\", index=False)\n",
        "\n",
        "print(f\"Data has been generated and saved in: {file_name}\")"
      ],
      "metadata": {
        "colab": {
          "base_uri": "https://localhost:8080/"
        },
        "id": "mw3iCm_9uXmk",
        "outputId": "029c9e7a-87aa-4ee7-bae3-fb2b9aff299d"
      },
      "execution_count": null,
      "outputs": [
        {
          "output_type": "stream",
          "name": "stdout",
          "text": [
            "Data has been generated and saved in: CoffeePointData.xlsx\n"
          ]
        }
      ]
    },
    {
      "cell_type": "markdown",
      "source": [
        "## ABC Analysis\n",
        "\n",
        "**ABC analysis** is a technique used in inventory management to categorize items based on their importance and value. It helps businesses prioritize their resources.\n",
        "\n",
        "**A items** are the most important items. They require close monitoring, since they are used frequently. In my data those are items tha are the top 80% of sales.\n"
      ],
      "metadata": {
        "id": "adqFdAzm8K7Q"
      }
    },
    {
      "cell_type": "code",
      "source": [
        "# Group by product and calculate total sales\n",
        "product_sales = df_orders.groupby(\"product\")[\"amount\"].sum().sort_values(ascending=False)\n",
        "\n",
        "# Calculate cumulative percentage\n",
        "cumulative_sales = product_sales.cumsum() / product_sales.sum() * 100\n",
        "\n",
        "# Classify products into A, B, C categories\n",
        "def classify_abc(cum_percentage):\n",
        "    if cum_percentage <= 80:\n",
        "        return \"A\"\n",
        "    elif cum_percentage <= 95:\n",
        "        return \"B\"\n",
        "    else:\n",
        "        return \"C\"\n",
        "\n",
        "abc_categories = cumulative_sales.apply(classify_abc)\n",
        "\n",
        "abc_analysis = pd.DataFrame({\n",
        "    \"Total Sales\": product_sales,\n",
        "    \"Cumulative Percentage\": cumulative_sales,\n",
        "    \"Category\": abc_categories\n",
        "})\n",
        "\n",
        "print(abc_analysis)"
      ],
      "metadata": {
        "colab": {
          "base_uri": "https://localhost:8080/"
        },
        "id": "EjVz_DoX8JNJ",
        "outputId": "35f9d793-6b90-4d10-ed8c-74de0f810ec1"
      },
      "execution_count": null,
      "outputs": [
        {
          "output_type": "stream",
          "name": "stdout",
          "text": [
            "            Total Sales  Cumulative Percentage Category\n",
            "product                                                \n",
            "Croissant       80360.5              21.228391        A\n",
            "Muffin          65758.5              38.599453        A\n",
            "Cappuccino      55696.0              53.312359        A\n",
            "Juice           49273.0              66.328536        A\n",
            "Latte           49231.0              79.333619        A\n",
            "Americano       42378.0              90.528382        B\n",
            "Tea             35855.0             100.000000        C\n"
          ]
        }
      ]
    },
    {
      "cell_type": "code",
      "source": [
        "# Plot ABC Analysis\n",
        "plt.figure(figsize=(10, 6))\n",
        "plt.bar(product_sales.index, product_sales.values, color=\"skyblue\")\n",
        "for i, val in enumerate(product_sales):\n",
        "    plt.text(i, val + 5, f\"{val:.0f}\", ha='center', va='bottom', fontsize=10)\n",
        "plt.title(\"ABC Analysis of Products\")\n",
        "plt.xlabel(\"Product\")\n",
        "plt.ylabel(\"Total Sales\")\n",
        "plt.grid(axis='y', linestyle='--', alpha=0.7)\n",
        "plt.show()"
      ],
      "metadata": {
        "colab": {
          "base_uri": "https://localhost:8080/",
          "height": 564
        },
        "id": "wuZm19xs8j3N",
        "outputId": "89d17e74-1a81-4ac3-f937-52eaf6b6f5ef"
      },
      "execution_count": null,
      "outputs": [
        {
          "output_type": "display_data",
          "data": {
            "text/plain": [
              "<Figure size 1000x600 with 1 Axes>"
            ],
            "image/png": "[encoded data removed]"
          },
          "metadata": {}
        }
      ]
    },
    {
      "cell_type": "markdown",
      "source": [
        "#FRM Analysis\n",
        "\n",
        "FRM analysis is a customer segmentation technique used to identify and group customers based on their purchasing behavior. It stands for:\n",
        "\n",
        "- **Frequency**: How often a customer makes purchases.\n",
        "- **Recency**: How recently a customer made a purchase.\n",
        "- **Monetary**: How much money a customer spends on purchases.\n",
        "\n",
        "Then a score for each customer is calculated and Excel file is updated with new sheet."
      ],
      "metadata": {
        "id": "RX_Tmy6F_afS"
      }
    },
    {
      "cell_type": "code",
      "source": [
        "#Frequency: how many distinct orders each customer has placed\n",
        "frequency = df_orders.groupby(\"customer_id\")[\"order_id\"].nunique()\n",
        "\n",
        "#Recency\n",
        "#latest day overall (from all orders)\n",
        "latest_date = df_orders[\"date\"].max()\n",
        "\n",
        "#days since last purchase for each customer\n",
        "recency = df_orders.groupby(\"customer_id\")[\"date\"].max().apply(lambda x: (latest_date - x).days)\n",
        "\n",
        "# Monetary: monetary value of customer spend on purchasing products from the company\n",
        "monetary = df_orders.groupby(\"customer_id\")[\"amount\"].sum()\n",
        "\n",
        "df_frm = pd.DataFrame({\n",
        "    \"Frequency\": frequency,\n",
        "    \"Recency\": recency,\n",
        "    \"Monetary\": monetary\n",
        "})\n",
        "\n",
        "#normalize the data to analyze the results\n",
        "df_frm['Frequency_rank'] = df_frm['Frequency'].rank(ascending=False)\n",
        "df_frm['Recency_rank'] = df_frm['Recency'].rank(ascending=False)\n",
        "df_frm['Monetary_rank'] = df_frm['Monetary'].rank(ascending=False)\n",
        "\n",
        "df_frm[\"Frequency_Norm\"] = (df_frm[\"Frequency_rank\"]/df_frm[\"Frequency_rank\"].max())*100\n",
        "df_frm[\"Recency_Norm\"] = (df_frm[\"Recency_rank\"]/df_frm[\"Recency_rank\"].max())*100\n",
        "df_frm[\"Monetary_Norm\"] = (df_frm[\"Monetary_rank\"]/df_frm[\"Monetary_rank\"].max())*100\n",
        "\n",
        "df_frm.drop(columns=[\"Frequency_rank\", \"Recency_rank\", \"Monetary_rank\"], inplace=True)\n",
        "\n",
        "#Calculating FRM Score (scale of 5)\n",
        "\n",
        "df_frm[\"FRM_Score\"] = 0.15*df_frm[\"Recency_Norm\"] + 0.28*df_frm[\"Frequency_Norm\"] + 0.57*df_frm[\"Monetary_Norm\"]\n",
        "df_frm['FRM_Score'] *= 0.05\n",
        "df_frm['FRM_Score'] = df_frm['FRM_Score'].round(2)\n",
        "\n",
        "df_frm[\"Customer_segment\"] = np.where(df_frm['FRM_Score'] >\n",
        "                                      4.5, \"Top Customers\",\n",
        "                                      (np.where(\n",
        "                                        df_frm['FRM_Score'] > 4,\n",
        "                                        \"High value Customer\",\n",
        "                                        (np.where(\n",
        "    df_frm['FRM_Score'] > 3,\n",
        "                             \"Medium Value Customer\",\n",
        "                             np.where(df_frm['FRM_Score'] > 1.6,\n",
        "                            'Low Value Customers', 'Lost Customers'))))))\n",
        "\n",
        "\n",
        "with pd.ExcelWriter(file_name, engine=\"openpyxl\", mode=\"a\") as writer:\n",
        "    df_frm.to_excel(writer, sheet_name=\"FRM Analysis\", index=True)\n",
        "\n",
        "print(f\"Data has been updated and saved in: {file_name}\")"
      ],
      "metadata": {
        "id": "_Xlc6SpzIm3u",
        "colab": {
          "base_uri": "https://localhost:8080/"
        },
        "outputId": "b35e36ca-f5d3-4e67-82fc-38ad92754dfe"
      },
      "execution_count": null,
      "outputs": [
        {
          "output_type": "stream",
          "name": "stdout",
          "text": [
            "Data has been updated and saved in: CoffeePointData.xlsx\n"
          ]
        }
      ]
    },
    {
      "cell_type": "code",
      "source": [
        "plt.pie(df_frm.Customer_segment.value_counts(),\n",
        "        labels=df_frm.Customer_segment.value_counts().index,\n",
        "        autopct='%.0f%%')\n",
        "plt.show()"
      ],
      "metadata": {
        "colab": {
          "base_uri": "https://localhost:8080/",
          "height": 406
        },
        "id": "NPMDkVHXjwJt",
        "outputId": "90b07299-89c0-4d38-f674-42dc3cf9d839"
      },
      "execution_count": null,
      "outputs": [
        {
          "output_type": "display_data",
          "data": {
            "text/plain": [
              "<Figure size 640x480 with 1 Axes>"
            ],
            "image/png": "[encoded data removed]"
          },
          "metadata": {}
        }
      ]
    },
    {
      "cell_type": "markdown",
      "source": [
        "**Lost Customers** - are customers that have very small FRM_Score. They are not frequent at my coffe point, didn't leave a lot of money etc.\n",
        "\n",
        "**Lost Customers and Low Value Customers** are a big part of my data - it is 62% total.\n",
        "\n",
        "The coffe point should probably do something to make more customers stay."
      ],
      "metadata": {
        "id": "Ds9ihvS0kioV"
      }
    },
    {
      "cell_type": "markdown",
      "source": [
        "##Application that allow to interact with data\n",
        "\n",
        "###Check inventory status\n",
        "\n",
        "The first application allows to see inventory data: thresholds and actual amount of the product in inventory. It also displays the message about the status.\n",
        "\n",
        "(Run the cell again if dropdown is not visible or data didn't update.)"
      ],
      "metadata": {
        "id": "fTALYioNEjBW"
      }
    },
    {
      "cell_type": "code",
      "source": [
        "import ipywidgets as widgets\n",
        "from IPython.display import display, HTML"
      ],
      "metadata": {
        "id": "cajElucCnKBb"
      },
      "execution_count": null,
      "outputs": []
    },
    {
      "cell_type": "code",
      "source": [
        "# Dropdown for product selection\n",
        "product_dropdown = widgets.Dropdown(\n",
        "    options=df_inventory[\"product\"].unique(),\n",
        "    description=\"Select Product:\",\n",
        "    value = None\n",
        ")\n",
        "\n",
        "output = widgets.Output()\n",
        "\n",
        "def update_output(change):\n",
        "    with output:\n",
        "        output.clear_output()\n",
        "        selected_product = change.new\n",
        "\n",
        "        if selected_product is None:\n",
        "            print(\"Please select a product.\")\n",
        "            return\n",
        "\n",
        "        # Stock thresholds\n",
        "        stock_thresholds = {\n",
        "            \"Coffee Beans\": 70.0,\n",
        "            \"Tea\": 100.0,\n",
        "            \"Croissant\": 100.0,\n",
        "            \"Muffin\": 100.0,\n",
        "            \"Juice\": 40.0\n",
        "        }\n",
        "\n",
        "        # Get stock information\n",
        "        stock_info = df_inventory.loc[df_inventory[\"product\"] == selected_product, \"stock_kg_or_units\"]\n",
        "        if stock_info.empty:\n",
        "            print(f\"Error: No stock data available for {selected_product}.\")\n",
        "            return\n",
        "\n",
        "        stock = stock_info.values[0]\n",
        "        threshold = stock_thresholds.get(selected_product, 0)\n",
        "\n",
        "        print(f\"Current stock of {selected_product}: {stock}\")\n",
        "        print(f\"Threshold needs to be {threshold}\")\n",
        "\n",
        "        # Check if stock is below threshold\n",
        "        if stock < threshold:\n",
        "            display(HTML(f\"<b style='color:red;'>In need of restock for {selected_product}!</b>\"))\n",
        "        else:\n",
        "            display(HTML(f\"<b style='color:green;'>Stock is sufficient for {selected_product}.</b>\"))\n",
        "\n",
        "# Attach observer to dropdown\n",
        "product_dropdown.observe(update_output, names=\"value\")\n",
        "\n",
        "# Display widgets\n",
        "display(product_dropdown, output)"
      ],
      "metadata": {
        "colab": {
          "base_uri": "https://localhost:8080/",
          "height": 101,
          "referenced_widgets": [
            "9b3e56375e9b41e9838569ac3067f9f3",
            "64ac7b44ec9d48b2800fddf79118d076",
            "8a94afe48093440eb77638bd8bc84e4a",
            "f4fe411dc094497ab66d896d6695e823",
            "d5e2e83badf24e48b0d0d380939d55a1"
          ]
        },
        "id": "E7iYNW_BnG1w",
        "outputId": "65d175ff-eeda-4358-c25b-48798d36f6f7"
      },
      "execution_count": null,
      "outputs": [
        {
          "output_type": "display_data",
          "data": {
            "text/plain": [
              "Dropdown(description='Select Product:', options=('Coffee Beans', 'Tea', 'Croissant', 'Muffin', 'Juice'), value…"
            ],
            "application/vnd.jupyter.widget-view+json": {
              "version_major": 2,
              "version_minor": 0,
              "model_id": "9b3e56375e9b41e9838569ac3067f9f3"
            }
          },
          "metadata": {}
        },
        {
          "output_type": "display_data",
          "data": {
            "text/plain": [
              "Output()"
            ],
            "application/vnd.jupyter.widget-view+json": {
              "version_major": 2,
              "version_minor": 0,
              "model_id": "f4fe411dc094497ab66d896d6695e823"
            }
          },
          "metadata": {}
        }
      ]
    },
    {
      "cell_type": "markdown",
      "source": [
        "###See the customer \"value\" and make marketing decision\n",
        "\n",
        "Imagine if marketing decided to bring more customers from lost and low value -> higher. They want each customer with that status to get a free sample.\n",
        "\n",
        "This simulates the application that would write a message for a barista if they should offer a free sample of some goodie."
      ],
      "metadata": {
        "id": "ax3vEWf-FiWz"
      }
    },
    {
      "cell_type": "code",
      "source": [
        "def process_new_order(customer_id, order_details=None):\n",
        "\n",
        "    if customer_id in df_frm.index:  # Check if the customer exists in df_frm\n",
        "        customer_segment = df_frm.loc[customer_id, \"Customer_segment\"]\n",
        "        if customer_segment in [\"Low Value Customers\", \"Lost Customers\"]:\n",
        "            message = (f\"<b><font color='red'>Offer this customer a free sample!</font></b> \"\n",
        "                       f\"(Customer segment: {customer_segment})\")\n",
        "        else:\n",
        "            message = f\"Customer segment: {customer_segment}\"\n",
        "    else:  # Handle new customer case\n",
        "        message = \"<b><font color='blue'>New customer.</font></b>\"\n",
        "\n",
        "    # Display the message\n",
        "    display(widgets.HTML(value=message))\n",
        "\n",
        "customer_id_input = widgets.IntText(description=\"Customer ID:\")\n",
        "submit_button = widgets.Button(description=\"Process Order\")\n",
        "output = widgets.Output()\n",
        "\n",
        "def on_submit_button_clicked(_):\n",
        "    with output:\n",
        "        output.clear_output()\n",
        "        if not customer_id_input.value:\n",
        "            display(widgets.HTML(value=\"<b><font color='orange'>Please enter a valid Customer ID.</font></b>\"))\n",
        "            return\n",
        "        process_new_order(customer_id_input.value)\n",
        "\n",
        "# Attach the event handler to the button\n",
        "submit_button.on_click(on_submit_button_clicked)\n",
        "\n",
        "# Display the input and button widgets\n",
        "display(widgets.VBox([customer_id_input, submit_button, output]))\n"
      ],
      "metadata": {
        "colab": {
          "base_uri": "https://localhost:8080/",
          "height": 113,
          "referenced_widgets": [
            "630c7bd5a7954f228d15ae2872e6e27f",
            "47d5872f04b74f4caa7c8f52697f7339",
            "2f99a0685bb84cc3af06c3ef20261e6c",
            "5e299db120a2430aa8abaa30bb52247b",
            "66b1acd9c62048eb9b389824bd07eecb",
            "604a9a48af194c798500f9e1810618f3",
            "3513f612d9534b9981c12947282dbb10",
            "bcb9b6756c684228a5dfa38058273517",
            "635ba8ca62d441d4915145c3d3bd98a1",
            "846092a000474c45a00454866d85a63a",
            "659bbc4d10544b02a96f05ad3c27ac04",
            "0d721b399748445d91d4cbe18012a4d3",
            "728634da139d449680e22a5b8083e20a",
            "144c1bc582b74e7989a2e4b22afba01c",
            "84b2641876344ab09258582d0c9d30a4",
            "48e8ab7e1a9944259f288b64f5d43f5b"
          ]
        },
        "id": "63Cm_FhbtRdw",
        "outputId": "f7792900-7be9-410b-f3b1-e9451f92d9cf"
      },
      "execution_count": null,
      "outputs": [
        {
          "output_type": "display_data",
          "data": {
            "text/plain": [
              "VBox(children=(IntText(value=0, description='Customer ID:'), Button(description='Process Order', style=ButtonS…"
            ],
            "application/vnd.jupyter.widget-view+json": {
              "version_major": 2,
              "version_minor": 0,
              "model_id": "630c7bd5a7954f228d15ae2872e6e27f"
            }
          },
          "metadata": {}
        }
      ]
    },
    {
      "cell_type": "markdown",
      "source": [
        "##Automation application : simulation of entering a new order to a system\n",
        "\n",
        "This is a simulation in which\n",
        "* a new order, customer id and order details are added, simmilar what would happen in real life case\n",
        "* a database (in my case Excel) is updated with all new details and calculations\n",
        "* a message appears that tells if free sample should be offered\n",
        "* there is a confirmation message, that Excel has been updated.\n",
        "\n",
        "In real life, customer would collect their residence card and all this data could be updated by this action.\n",
        "\n",
        "Results can be checked in updated Excel, but it takes a minute for the confirmation message to appear."
      ],
      "metadata": {
        "id": "tX13wBZ0GJFz"
      }
    },
    {
      "cell_type": "code",
      "source": [
        "import pandas as pd\n",
        "import numpy as np\n",
        "import ipywidgets as widgets\n",
        "from IPython.display import display"
      ],
      "metadata": {
        "id": "8Yt9EFJgX5Go"
      },
      "execution_count": null,
      "outputs": []
    },
    {
      "cell_type": "code",
      "source": [
        "# variables\n",
        "product_catalog = {\n",
        "    \"Americano\": 3.0,\n",
        "    \"Latte\": 3.5,\n",
        "    \"Cappuccino\": 4.0,\n",
        "    \"Tea\": 2.5,\n",
        "    \"Croissant\": 5.5,\n",
        "    \"Muffin\": 4.5,\n",
        "    \"Juice\": 3.5,\n",
        "}\n",
        "\n",
        "coffee_products = [\"Americano\", \"Latte\", \"Cappuccino\"]\n",
        "\n",
        "file_name = \"CoffeePointData.xlsx\"\n",
        "df_orders = pd.read_excel(file_name, sheet_name=\"Order History\")\n",
        "df_inventory = pd.read_excel(file_name, sheet_name=\"Inventory Info\")\n",
        "df_customers = pd.read_excel(file_name, sheet_name=\"Customer Data\")\n",
        "# -------------------\n",
        "\n",
        "# Function to update the inventory\n",
        "def update_inventory(new_order_data):\n",
        "    global df_inventory\n",
        "    for _, order in new_order_data.iterrows():\n",
        "        product = order[\"product\"]\n",
        "        quantity = order[\"quantity\"]\n",
        "        if product in coffee_products:\n",
        "            coffee_used = 0.01 * quantity\n",
        "            df_inventory.loc[df_inventory[\"product\"] == \"Coffee Beans\", \"stock_kg_or_units\"] -= coffee_used\n",
        "        else:\n",
        "            df_inventory.loc[df_inventory[\"product\"] == product, \"stock_kg_or_units\"] -= quantity\n",
        "    with pd.ExcelWriter(file_name, engine=\"openpyxl\", mode=\"a\", if_sheet_exists=\"replace\") as writer:\n",
        "        df_inventory.to_excel(writer, sheet_name=\"Inventory Info\", index=False)\n",
        "# -------------------\n",
        "\n",
        "# Function to update customer data with new order\n",
        "def update_customer_data(new_order_data):\n",
        "    global df_customers\n",
        "    global df_orders\n",
        "    new_customer_id = customer_id_input.value\n",
        "    last_purchase_date = new_order_data.loc[new_order_data[\"customer_id\"] == new_customer_id, \"date\"].max()\n",
        "\n",
        "    if new_customer_id in df_customers[\"customer_id\"].values:\n",
        "        df_customers.loc[df_customers[\"customer_id\"] == new_customer_id, \"last_purchase\"] = last_purchase_date\n",
        "    else:\n",
        "        new_customer_row = pd.DataFrame({\"customer_id\": [new_customer_id], \"last_purchase\": [last_purchase_date]})\n",
        "        df_customers = pd.concat([df_customers, new_customer_row], ignore_index=True)\n",
        "\n",
        "    with pd.ExcelWriter(file_name, engine=\"openpyxl\", mode=\"a\", if_sheet_exists=\"replace\") as writer:\n",
        "        df_customers.to_excel(writer, sheet_name=\"Customer Data\", index=False)\n",
        "# -------------------\n",
        "def recalculate_frm():\n",
        "    global df_frm\n",
        "    frequency = df_orders.groupby(\"customer_id\")[\"order_id\"].nunique()\n",
        "    latest_date = df_orders[\"date\"].max()\n",
        "    recency = df_orders.groupby(\"customer_id\")[\"date\"].max().apply(lambda x: (latest_date - x).days)\n",
        "    monetary = df_orders.groupby(\"customer_id\")[\"amount\"].sum()\n",
        "\n",
        "    df_frm = pd.DataFrame({\n",
        "        \"Frequency\": frequency,\n",
        "        \"Recency\": recency,\n",
        "        \"Monetary\": monetary\n",
        "    })\n",
        "\n",
        "    #normalize the data to analyze the results\n",
        "    df_frm['Frequency_rank'] = df_frm['Frequency'].rank(ascending=False)\n",
        "    df_frm['Recency_rank'] = df_frm['Recency'].rank(ascending=False)\n",
        "    df_frm['Monetary_rank'] = df_frm['Monetary'].rank(ascending=False)\n",
        "\n",
        "    df_frm[\"Frequency_Norm\"] = (df_frm[\"Frequency_rank\"]/df_frm[\"Frequency_rank\"].max())*100\n",
        "    df_frm[\"Recency_Norm\"] = (df_frm[\"Recency_rank\"]/df_frm[\"Recency_rank\"].max())*100\n",
        "    df_frm[\"Monetary_Norm\"] = (df_frm[\"Monetary_rank\"]/df_frm[\"Monetary_rank\"].max())*100\n",
        "\n",
        "    df_frm.drop(columns=[\"Frequency_rank\", \"Recency_rank\", \"Monetary_rank\"], inplace=True)\n",
        "\n",
        "    #Calculating FRM Score (scale of 5)\n",
        "    df_frm[\"FRM_Score\"] = 0.15*df_frm[\"Recency_Norm\"] + 0.28*df_frm[\"Frequency_Norm\"] + 0.57*df_frm[\"Monetary_Norm\"]\n",
        "    df_frm['FRM_Score'] *= 0.05\n",
        "    df_frm['FRM_Score'] = df_frm['FRM_Score'].round(2)\n",
        "\n",
        "    df_frm[\"Customer_segment\"] = np.where(\n",
        "        df_frm['FRM_Score'] > 4.5, \"Top Customers\",\n",
        "        np.where(\n",
        "            df_frm['FRM_Score'] > 4, \"High value Customer\",\n",
        "            np.where(\n",
        "                df_frm['FRM_Score'] > 3, \"Medium Value Customer\",\n",
        "                np.where(df_frm['FRM_Score'] > 1.6, 'Low Value Customers', 'Lost Customers')\n",
        "            )\n",
        "        )\n",
        "    )\n",
        "\n",
        "    # Overwrite the \"FRM Analysis\" sheet\n",
        "    with pd.ExcelWriter(file_name, engine=\"openpyxl\", mode=\"a\", if_sheet_exists=\"replace\") as writer:\n",
        "        df_frm.to_excel(writer, sheet_name=\"FRM Analysis\", index=True)\n",
        "\n",
        "# -------------\n",
        "def read_segment():\n",
        "    customer_id = customer_id_input.value\n",
        "    print(\"Customer id is: \", customer_id)\n",
        "    if customer_id not in df_frm.index:\n",
        "        print(\"Error: Customer not found in FRM data!\")\n",
        "        return\n",
        "\n",
        "    customer_segment = df_frm.loc[customer_id, \"Customer_segment\"]\n",
        "    if customer_segment in [\"Low Value Customers\", \"Lost Customers\"]:\n",
        "        message = (f\"<b><font color='red'>Offer this customer a free sample!</font></b> \"\n",
        "                   f\"(Customer segment: {customer_segment})<br>\"\n",
        "                   f\"All data has been updated in {file_name}\")\n",
        "    else:\n",
        "        message = (f\"Customer segment: {customer_segment}<br>\"\n",
        "                   f\"All data has been updated in {file_name}\")\n",
        "    display(widgets.HTML(value=message))\n",
        "\n",
        "# -------------\n",
        "\n",
        "\n",
        "# Function to reset order ID and date for new order\n",
        "def reset_order():\n",
        "    global new_order_id\n",
        "    global date\n",
        "\n",
        "    new_order_id = df_orders['order_id'].max() + 1\n",
        "    date = np.random.choice(pd.date_range(start=\"2023-01-01\", end=\"2024-01-01\"))\n",
        "\n",
        "# -------------------\n",
        "\n",
        "# Button for resetting the order\n",
        "new_order_button = widgets.Button(description=\"New Order\")\n",
        "\n",
        "# Function to handle the new order button click\n",
        "def new_order_button_click(button):\n",
        "    reset_order()\n",
        "\n",
        "    submit_button.disabled = False\n",
        "    check_submit_button_visibility()\n",
        "\n",
        "\n",
        "# Attach the reset functionality to the new order button\n",
        "new_order_button.on_click(new_order_button_click)\n",
        "# -------------------\n",
        "\n",
        "def check_submit_button_visibility(change=None):\n",
        "    # Check if customer ID is provided and at least one product is selected\n",
        "    customer_id = customer_id_input.value\n",
        "    selected_products = [dropdown.value for dropdown in product_dropdowns if dropdown.value is not None]\n",
        "\n",
        "    # Enable or disable the \"Submit\" button based on the conditions\n",
        "    if customer_id and selected_products:\n",
        "        submit_button.disabled = False\n",
        "    else:\n",
        "        submit_button.disabled = True\n",
        "\n",
        "\n",
        "# -------------------\n",
        "# Initialize widgets\n",
        "customer_id_input = widgets.IntText(description=\"Customer ID:\")\n",
        "product_dropdowns = [widgets.Dropdown(options=[None] + list(product_catalog.keys()), description=f\"Item {i+1}:\") for i in range(5)]\n",
        "submit_button = widgets.Button(description=\"Submit New Order\", disabled=True)\n",
        "print(\"After submitting, wait for the confirmation message that Excel has been updated. This might take a minute.\")\n",
        "output = widgets.Output()\n",
        "# -------------------\n",
        "\n",
        "# Function to add items to the order\n",
        "def add_items_to_order(button):\n",
        "    with output:\n",
        "        output.clear_output()\n",
        "        customer_id = customer_id_input.value\n",
        "        if not customer_id:\n",
        "            print(\"Please enter a valid Customer ID.\")\n",
        "            return\n",
        "\n",
        "        selected_products = [dropdown.value for dropdown in product_dropdowns if dropdown.value is not None]\n",
        "        if not selected_products:\n",
        "            print(\"No items selected. Please select at least one item.\")\n",
        "            return\n",
        "\n",
        "        new_order_data = []\n",
        "        for product in selected_products:\n",
        "            price = product_catalog[product]\n",
        "            quantity = 1\n",
        "            amount = price * quantity\n",
        "            coffee_used_kg = 0.01 if product in coffee_products else 0\n",
        "            new_order_data.append([new_order_id, customer_id, date, product, quantity, price, amount, coffee_used_kg])\n",
        "\n",
        "        df_new_order_items = pd.DataFrame(new_order_data, columns=[\"order_id\", \"customer_id\", \"date\", \"product\", \"quantity\", \"price\", \"amount\", \"coffee_used_kg\"])\n",
        "        global df_orders\n",
        "        df_orders = pd.concat([df_orders, df_new_order_items], ignore_index=True)\n",
        "\n",
        "        with pd.ExcelWriter(file_name, engine=\"openpyxl\", mode=\"a\", if_sheet_exists=\"replace\") as writer:\n",
        "            df_orders.to_excel(writer, sheet_name=\"Order History\", index=False)\n",
        "\n",
        "        update_inventory(df_new_order_items)\n",
        "        update_customer_data(df_new_order_items)\n",
        "        recalculate_frm()\n",
        "        read_segment()\n",
        "# -------------------\n",
        "\n",
        "# Attach the function to the submit button\n",
        "submit_button.on_click(add_items_to_order)\n",
        "\n",
        "# observe if button submit can be visible already\n",
        "customer_id_input.observe(check_submit_button_visibility, names='value')\n",
        "for dropdown in product_dropdowns:\n",
        "    dropdown.observe(check_submit_button_visibility, names='value')\n",
        "\n",
        "# Display all widgets\n",
        "display(new_order_button, customer_id_input, *product_dropdowns, submit_button, output)\n",
        "\n",
        "# Initial order setup\n",
        "reset_order()"
      ],
      "metadata": {
        "colab": {
          "base_uri": "https://localhost:8080/",
          "height": 410,
          "referenced_widgets": [
            "caf14ecc638b46aba5c55e85fa9068bb",
            "2f4142173eb44163b1e948a49cc95498",
            "f3b005bea8e04800b45afefa7b2199e8",
            "c807bfc12b50480ea28388cafa876d7f",
            "1a66fbf1426c46ca81e0662fca20f357",
            "fd5c7d65f1e947a4ac130ab35f23885a",
            "21fbfa54732143a9a8c560d5198ae081",
            "f736e46d73f7428f9008229950ce2028",
            "5de608d45a6b4ad28d8718ce89055952",
            "576b326b95ec41268594e154c05c62e2",
            "5f2dc99a0e3d4ef882bbd906200d2f3d",
            "828fc3f151c6414e876f549858d95afe",
            "9abe39d48c03439d8789c97fd14d33b9",
            "76475fc2840a49eba779aba34f3e0ef1",
            "e0e6a6cb868f4db2b6a346ed279eccab",
            "40e55aa26e624ad9bf679eb35f577c1f",
            "656b15a78eb94f159be87e0ef74add0a",
            "233719f894a2402f8c723e1ac6b3d436",
            "76fec5db45d4479a9e823655d2794282",
            "10e56adac6594192ba720abac85636cb",
            "6a080ae5375c49e4b73cc9416e1cc582",
            "8324588181794e7d85bf8b8615543dd4",
            "9ee33c80b5ad4ad28b2c5d7cea1d6f21",
            "19e041a1c1c945d9927b0db766e26182",
            "786c024975aa4cfba512c2c7f3deaa86",
            "44600a1016be4b2da9d45eb85b5afb86",
            "c99b22b5d0fd42c0a268fd10c7650f08",
            "de46bed10b6c4d15af4b5e4f88d8edb3",
            "c241fbf9b8af4a91a7081af3f80cce27"
          ]
        },
        "id": "wfBYY7PsoVMB",
        "outputId": "d7b560b6-4bad-4a52-edba-57f24d29c752"
      },
      "execution_count": null,
      "outputs": [
        {
          "output_type": "stream",
          "name": "stdout",
          "text": [
            "After submitting, wait for the confirmation message that Excel has been updated. This might take a minute.\n"
          ]
        },
        {
          "output_type": "display_data",
          "data": {
            "text/plain": [
              "Button(description='New Order', style=ButtonStyle())"
            ],
            "application/vnd.jupyter.widget-view+json": {
              "version_major": 2,
              "version_minor": 0,
              "model_id": "caf14ecc638b46aba5c55e85fa9068bb"
            }
          },
          "metadata": {}
        },
        {
          "output_type": "display_data",
          "data": {
            "text/plain": [
              "IntText(value=0, description='Customer ID:')"
            ],
            "application/vnd.jupyter.widget-view+json": {
              "version_major": 2,
              "version_minor": 0,
              "model_id": "c807bfc12b50480ea28388cafa876d7f"
            }
          },
          "metadata": {}
        },
        {
          "output_type": "display_data",
          "data": {
            "text/plain": [
              "Dropdown(description='Item 1:', options=(None, 'Americano', 'Latte', 'Cappuccino', 'Tea', 'Croissant', 'Muffin…"
            ],
            "application/vnd.jupyter.widget-view+json": {
              "version_major": 2,
              "version_minor": 0,
              "model_id": "21fbfa54732143a9a8c560d5198ae081"
            }
          },
          "metadata": {}
        },
        {
          "output_type": "display_data",
          "data": {
            "text/plain": [
              "Dropdown(description='Item 2:', options=(None, 'Americano', 'Latte', 'Cappuccino', 'Tea', 'Croissant', 'Muffin…"
            ],
            "application/vnd.jupyter.widget-view+json": {
              "version_major": 2,
              "version_minor": 0,
              "model_id": "576b326b95ec41268594e154c05c62e2"
            }
          },
          "metadata": {}
        },
        {
          "output_type": "display_data",
          "data": {
            "text/plain": [
              "Dropdown(description='Item 3:', options=(None, 'Americano', 'Latte', 'Cappuccino', 'Tea', 'Croissant', 'Muffin…"
            ],
            "application/vnd.jupyter.widget-view+json": {
              "version_major": 2,
              "version_minor": 0,
              "model_id": "9abe39d48c03439d8789c97fd14d33b9"
            }
          },
          "metadata": {}
        },
        {
          "output_type": "display_data",
          "data": {
            "text/plain": [
              "Dropdown(description='Item 4:', options=(None, 'Americano', 'Latte', 'Cappuccino', 'Tea', 'Croissant', 'Muffin…"
            ],
            "application/vnd.jupyter.widget-view+json": {
              "version_major": 2,
              "version_minor": 0,
              "model_id": "40e55aa26e624ad9bf679eb35f577c1f"
            }
          },
          "metadata": {}
        },
        {
          "output_type": "display_data",
          "data": {
            "text/plain": [
              "Dropdown(description='Item 5:', options=(None, 'Americano', 'Latte', 'Cappuccino', 'Tea', 'Croissant', 'Muffin…"
            ],
            "application/vnd.jupyter.widget-view+json": {
              "version_major": 2,
              "version_minor": 0,
              "model_id": "76fec5db45d4479a9e823655d2794282"
            }
          },
          "metadata": {}
        },
        {
          "output_type": "display_data",
          "data": {
            "text/plain": [
              "Button(description='Submit New Order', disabled=True, style=ButtonStyle())"
            ],
            "application/vnd.jupyter.widget-view+json": {
              "version_major": 2,
              "version_minor": 0,
              "model_id": "8324588181794e7d85bf8b8615543dd4"
            }
          },
          "metadata": {}
        },
        {
          "output_type": "display_data",
          "data": {
            "text/plain": [
              "Output()"
            ],
            "application/vnd.jupyter.widget-view+json": {
              "version_major": 2,
              "version_minor": 0,
              "model_id": "786c024975aa4cfba512c2c7f3deaa86"
            }
          },
          "metadata": {}
        }
      ]
    },
    {
      "cell_type": "markdown",
      "source": [
        "Now, after entering new order data, all previous functionalities, like checking the inventory or making a plot work as well, with new data included."
      ],
      "metadata": {
        "id": "sgcdcdabnLHf"
      }
    }
  ]
}